{
 "cells": [
  {
   "cell_type": "markdown",
   "id": "8be98ecc-fa89-460a-97ee-15a88c1a724a",
   "metadata": {},
   "source": [
    "## Laboratorio 05: Taxi Agent\n",
    " \n",
    "    Mirka Monzón 18139  \n",
    "    Daniela Villamar 19086  \n",
    "    Alexa Bravo  18831   \n",
    "Mayo 07, 2022"
   ]
  },
  {
   "cell_type": "code",
   "execution_count": 1,
   "id": "76b6bc59-94a6-4759-a25b-eba77f63c408",
   "metadata": {},
   "outputs": [],
   "source": [
    "#Importamos las librerias necesarias. \n",
    "import gym\n",
    "import numpy as np\n",
    "from IPython.display import clear_output\n",
    "import time\n",
    "import random"
   ]
  },
  {
   "cell_type": "code",
   "execution_count": 2,
   "id": "6fc3d9e6-495a-421a-96b0-724fdf6cd6fb",
   "metadata": {},
   "outputs": [
    {
     "name": "stdout",
     "output_type": "stream",
     "text": [
      "Episode: 9\n",
      "Score: -722\n"
     ]
    }
   ],
   "source": [
    "#Creamos el ambiente\n",
    "env = gym.make('Taxi-v3')\n",
    "\n",
    "episodes = 10\n",
    "for episode in range(1,episodes):\n",
    "    state = env.reset()\n",
    "    done= False\n",
    "    score=0\n",
    "    \n",
    "    while not done:\n",
    "        env.render()\n",
    "        state,reward,done,info = env.step(env.action_space.sample())\n",
    "        score += reward\n",
    "        clear_output(wait=True)\n",
    "    print('Episode: {}\\nScore: {}'.format(episode, score))\n",
    "    \n",
    "env.close()"
   ]
  },
  {
   "cell_type": "code",
   "execution_count": 3,
   "id": "1f9f7622-ba56-4c78-929f-b2b0959f4fb8",
   "metadata": {},
   "outputs": [
    {
     "name": "stdout",
     "output_type": "stream",
     "text": [
      "***** Listo *****\n"
     ]
    }
   ],
   "source": [
    "#Crear Q-Table\n",
    "actions = env.action_space.n\n",
    "state = env.observation_space.n\n",
    "\n",
    "q_table = np.zeros((state,actions))\n",
    "\n",
    "#Parametros para Q-Learning\n",
    "num_episodes = 10000\n",
    "max_steps_per_episode =1000\n",
    "learning_rate=0.01\n",
    "discount_rate = 0.99\n",
    "exploration_rate=1\n",
    "max_exploration_rate = 1\n",
    "min_exploration_rate = 0.01\n",
    "exploration_decay_rate= 0.01\n",
    "\n",
    "rewards_all_episodes = []\n",
    "\n",
    "#Q-Learning\n",
    "\n",
    "for episode in range(num_episodes):\n",
    "    state = env.reset()\n",
    "    done = False\n",
    "    reward_current_episode = 0\n",
    "    \n",
    "    for step in range(max_steps_per_episode):\n",
    "        exploration_threshold = random.uniform(0,1)\n",
    "        if exploration_threshold > exploration_rate:\n",
    "            action = np.argmax(q_table[state,:])\n",
    "        else:\n",
    "            action = env.action_space.sample()\n",
    "        new_state,reward,done,info = env.step(action)\n",
    "        \n",
    "        #Actualiza la Q-Table\n",
    "        q_table[state,action] = q_table[state,action]*(1-learning_rate)+ learning_rate*(reward + discount_rate * np.max(q_table[new_state, :]))\n",
    "        state=new_state\n",
    "        reward_current_episode += reward\n",
    "        \n",
    "        if done== True:\n",
    "            break\n",
    "    exploration_rate = min_exploration_rate + \\\n",
    "        (max_exploration_rate- min_exploration_rate) * np.exp(-exploration_decay_rate * episode)\n",
    "    rewards_all_episodes.append(reward_current_episode)\n",
    "print(\"***** Listo *****\")"
   ]
  },
  {
   "cell_type": "code",
   "execution_count": 4,
   "id": "7a522c7c-35ef-410b-a809-13fd79e18c05",
   "metadata": {},
   "outputs": [
    {
     "name": "stdout",
     "output_type": "stream",
     "text": [
      "Promedio por mil episodios\n",
      "1000 : -259.8229999999998\n",
      "2000 : -199.5370000000003\n",
      "3000 : -149.9620000000002\n",
      "4000 : -101.26800000000017\n",
      "5000 : -65.61399999999986\n",
      "6000 : -41.755999999999915\n",
      "7000 : -25.169999999999973\n",
      "8000 : -12.359000000000032\n",
      "9000 : -6.395000000000002\n",
      "10000 : -0.728999999999999\n"
     ]
    }
   ],
   "source": [
    "#Calculo de episodios por mil episodios\n",
    "rewards_per_thousand_episodes = np.split(np.array(rewards_all_episodes), num_episodes/1000)\n",
    "count = 1000\n",
    "\n",
    "print(\"Promedio por mil episodios\")\n",
    "\n",
    "for r in rewards_per_thousand_episodes:\n",
    "    print(count, \":\", str(sum(r/1000)))\n",
    "    count+=1000"
   ]
  },
  {
   "cell_type": "code",
   "execution_count": 5,
   "id": "464a8877-74e4-4ecd-8c6a-bc86ef665234",
   "metadata": {},
   "outputs": [
    {
     "name": "stdout",
     "output_type": "stream",
     "text": [
      "+---------+\n",
      "|R: | : :\u001b[35m\u001b[34;1m\u001b[43mG\u001b[0m\u001b[0m\u001b[0m|\n",
      "| : | : : |\n",
      "| : : : : |\n",
      "| | : | : |\n",
      "|Y| : |B: |\n",
      "+---------+\n",
      "  (Dropoff)\n",
      "***Fallo***\n"
     ]
    }
   ],
   "source": [
    "# Agente\n",
    "for episode in range(3):\n",
    "    status = env.reset()\n",
    "    done = False\n",
    "    print(\"Episodio: \"+ str(episode))\n",
    "    time.sleep(1)\n",
    "    \n",
    "    for step in range(max_steps_per_episode):\n",
    "        clear_output(wait=True)\n",
    "        env.render()\n",
    "        time.sleep(.4)\n",
    "        \n",
    "        action = np.argmax(q_table[state,:])\n",
    "        \n",
    "        new_state, reward, done, info = env.step(action)\n",
    "        \n",
    "        if done:\n",
    "            clear_output(wait=True)\n",
    "            env.render()\n",
    "            if reward == 1:\n",
    "                print(\"****Llego a su destino****\")\n",
    "                time.sleep(2)\n",
    "                clear_output(wait=True)\n",
    "            else:\n",
    "                print(\"***Fallo***\")\n",
    "                time.sleep(2)\n",
    "                clear_output(wait=True)\n",
    "                \n",
    "            break\n",
    "        state=new_state\n",
    "env.close()"
   ]
  }
 ],
 "metadata": {
  "kernelspec": {
   "display_name": "Python 3",
   "language": "python",
   "name": "python3"
  },
  "language_info": {
   "codemirror_mode": {
    "name": "ipython",
    "version": 3
   },
   "file_extension": ".py",
   "mimetype": "text/x-python",
   "name": "python",
   "nbconvert_exporter": "python",
   "pygments_lexer": "ipython3",
   "version": "3.8.8"
  }
 },
 "nbformat": 4,
 "nbformat_minor": 5
}
